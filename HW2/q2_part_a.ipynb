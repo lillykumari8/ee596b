{
 "cells": [
  {
   "cell_type": "code",
   "execution_count": 1,
   "metadata": {},
   "outputs": [],
   "source": [
    "import pickle\n",
    "import numpy as np\n",
    "import matplotlib.pyplot as plt\n",
    "import load_cifar"
   ]
  },
  {
   "cell_type": "markdown",
   "metadata": {},
   "source": [
    "<p style=\"font-size:20px\">You will define the preprocessing functions in <b>load_cifar.py</b>. Once you are done, you can verify the functions in this template and prepare your data well.</p>"
   ]
  },
  {
   "cell_type": "code",
   "execution_count": 2,
   "metadata": {},
   "outputs": [],
   "source": [
    "folder_path = '/home/lkumari/data/cifar-10-batches-py/'"
   ]
  },
  {
   "cell_type": "markdown",
   "metadata": {},
   "source": [
    "<h1>load data</h1>\n",
    "<p style=\"font-size:20px\">Check your functinons load_training_batch and load_testing_batch function are correct."
   ]
  },
  {
   "cell_type": "code",
   "execution_count": 3,
   "metadata": {},
   "outputs": [],
   "source": [
    "features_1, labels_1 = load_cifar.load_training_batch(folder_path,1)"
   ]
  },
  {
   "cell_type": "code",
   "execution_count": 4,
   "metadata": {},
   "outputs": [
    {
     "data": {
      "text/plain": [
       "10000"
      ]
     },
     "execution_count": 4,
     "metadata": {},
     "output_type": "execute_result"
    }
   ],
   "source": [
    "len(labels_1)"
   ]
  },
  {
   "cell_type": "markdown",
   "metadata": {},
   "source": [
    "<h1>features reshape</h1>\n",
    "<p style=\"font-size:20px\">Verify features_reshape() function."
   ]
  },
  {
   "cell_type": "code",
   "execution_count": 5,
   "metadata": {},
   "outputs": [
    {
     "name": "stdout",
     "output_type": "stream",
     "text": [
      "(10000, 32, 32, 3)\n"
     ]
    }
   ],
   "source": [
    "features_1 = load_cifar.features_reshape(features_1)\n",
    "print(features_1.shape)"
   ]
  },
  {
   "cell_type": "markdown",
   "metadata": {},
   "source": [
    "<h1>Run preprocess data function</h1>\n",
    "<p style=\"font-size:20px\">This functions will load all training and testing batches, separate the validation set, and save them as \"Pickle\" objects</p>"
   ]
  },
  {
   "cell_type": "code",
   "execution_count": 7,
   "metadata": {},
   "outputs": [],
   "source": [
    "load_cifar.preprocess_data(folder_path)"
   ]
  },
  {
   "cell_type": "markdown",
   "metadata": {},
   "source": [
    "<h1>load preprocessed training,validation and testing data</h1>\n",
    "<p style=\"font-size:20px\">Check the shape of your preprocessed data files</p>"
   ]
  },
  {
   "cell_type": "code",
   "execution_count": 8,
   "metadata": {},
   "outputs": [],
   "source": [
    "validation = pickle.load(open(folder_path+ 'preprcoessed_val','rb'))\n",
    "training = pickle.load(open(folder_path+ 'preprcoessed_train_batch_1','rb'))\n",
    "testing = pickle.load(open(folder_path+ 'preprcoessed_test','rb'))"
   ]
  },
  {
   "cell_type": "code",
   "execution_count": 9,
   "metadata": {},
   "outputs": [
    {
     "name": "stdout",
     "output_type": "stream",
     "text": [
      "(9000, 3072)\n",
      "(10000, 3072)\n"
     ]
    }
   ],
   "source": [
    "#check the shape of data and labels, please make sure there is no error\n",
    "#before you implement your neural network.\n",
    "print(training['data'].shape)\n",
    "print(testing['data'].shape)"
   ]
  }
 ],
 "metadata": {
  "kernelspec": {
   "display_name": "Python 3",
   "language": "python",
   "name": "python3"
  },
  "language_info": {
   "codemirror_mode": {
    "name": "ipython",
    "version": 3
   },
   "file_extension": ".py",
   "mimetype": "text/x-python",
   "name": "python",
   "nbconvert_exporter": "python",
   "pygments_lexer": "ipython3",
   "version": "3.5.3"
  }
 },
 "nbformat": 4,
 "nbformat_minor": 2
}
