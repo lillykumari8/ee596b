{
 "cells": [
  {
   "cell_type": "code",
   "execution_count": 259,
   "metadata": {},
   "outputs": [],
   "source": [
    "import tensorflow as tf\n",
    "import numpy as np\n",
    "import pandas as pd\n",
    "from pandas import get_dummies\n",
    "import matplotlib.pyplot as plt\n",
    "from sklearn.model_selection import train_test_split"
   ]
  },
  {
   "cell_type": "markdown",
   "metadata": {},
   "source": [
    "<h1>Load data</h1>"
   ]
  },
  {
   "cell_type": "code",
   "execution_count": 260,
   "metadata": {},
   "outputs": [],
   "source": [
    "file_name = \"iris.data.csv\""
   ]
  },
  {
   "cell_type": "code",
   "execution_count": 261,
   "metadata": {},
   "outputs": [
    {
     "data": {
      "text/html": [
       "<div>\n",
       "<style scoped>\n",
       "    .dataframe tbody tr th:only-of-type {\n",
       "        vertical-align: middle;\n",
       "    }\n",
       "\n",
       "    .dataframe tbody tr th {\n",
       "        vertical-align: top;\n",
       "    }\n",
       "\n",
       "    .dataframe thead th {\n",
       "        text-align: right;\n",
       "    }\n",
       "</style>\n",
       "<table border=\"1\" class=\"dataframe\">\n",
       "  <thead>\n",
       "    <tr style=\"text-align: right;\">\n",
       "      <th></th>\n",
       "      <th>sepal_length</th>\n",
       "      <th>sepal_width</th>\n",
       "      <th>petal_length</th>\n",
       "      <th>petal_width</th>\n",
       "      <th>species</th>\n",
       "    </tr>\n",
       "  </thead>\n",
       "  <tbody>\n",
       "    <tr>\n",
       "      <th>0</th>\n",
       "      <td>5.1</td>\n",
       "      <td>3.5</td>\n",
       "      <td>1.4</td>\n",
       "      <td>0.2</td>\n",
       "      <td>Iris-setosa</td>\n",
       "    </tr>\n",
       "    <tr>\n",
       "      <th>1</th>\n",
       "      <td>4.9</td>\n",
       "      <td>3.0</td>\n",
       "      <td>1.4</td>\n",
       "      <td>0.2</td>\n",
       "      <td>Iris-setosa</td>\n",
       "    </tr>\n",
       "    <tr>\n",
       "      <th>2</th>\n",
       "      <td>4.7</td>\n",
       "      <td>3.2</td>\n",
       "      <td>1.3</td>\n",
       "      <td>0.2</td>\n",
       "      <td>Iris-setosa</td>\n",
       "    </tr>\n",
       "    <tr>\n",
       "      <th>3</th>\n",
       "      <td>4.6</td>\n",
       "      <td>3.1</td>\n",
       "      <td>1.5</td>\n",
       "      <td>0.2</td>\n",
       "      <td>Iris-setosa</td>\n",
       "    </tr>\n",
       "    <tr>\n",
       "      <th>4</th>\n",
       "      <td>5.0</td>\n",
       "      <td>3.6</td>\n",
       "      <td>1.4</td>\n",
       "      <td>0.2</td>\n",
       "      <td>Iris-setosa</td>\n",
       "    </tr>\n",
       "  </tbody>\n",
       "</table>\n",
       "</div>"
      ],
      "text/plain": [
       "   sepal_length  sepal_width  petal_length  petal_width      species\n",
       "0           5.1          3.5           1.4          0.2  Iris-setosa\n",
       "1           4.9          3.0           1.4          0.2  Iris-setosa\n",
       "2           4.7          3.2           1.3          0.2  Iris-setosa\n",
       "3           4.6          3.1           1.5          0.2  Iris-setosa\n",
       "4           5.0          3.6           1.4          0.2  Iris-setosa"
      ]
     },
     "execution_count": 261,
     "metadata": {},
     "output_type": "execute_result"
    }
   ],
   "source": [
    "#load the dataset into memory\n",
    "dataset = pd.read_csv(file_name,header=None,\\\n",
    "                      names=['sepal_length','sepal_width','petal_length','petal_width','species'])\n",
    "#check several examples of data\n",
    "dataset.head()"
   ]
  },
  {
   "cell_type": "markdown",
   "metadata": {},
   "source": [
    "<h1>Data preprocessing</h1>"
   ]
  },
  {
   "cell_type": "code",
   "execution_count": 262,
   "metadata": {},
   "outputs": [],
   "source": [
    "#simple function to process the data.\n",
    "\"\"\"\n",
    "input:\n",
    "    data: iris dataset\n",
    "    num_features: 2 => select only petal width and petal width.\n",
    "                  4 => select all features\n",
    "    flower: 'Iris-setosa' => labels of Iris-setosa will be 1 and others will be 0\n",
    "            'Iris-virginica' => labels of Iris-virginica will be 1 and others will be 0\n",
    "            'None' => use one-hot encoding to represent the labels\n",
    "\n",
    "return:\n",
    "    x: normalized & shuffled data\n",
    "    y: labels\n",
    "\"\"\"\n",
    "def data_preprocessing(data,num_features,flower=None):\n",
    "    if num_features==2:\n",
    "        features = data.columns[2:4]\n",
    "    else:\n",
    "        features = data.columns[0:4]\n",
    "    labels = dataset.columns[4]\n",
    "    print(features)\n",
    "    print(labels)\n",
    "    #normalize the data\n",
    "    data_norm = pd.DataFrame(data)\n",
    "    for feature in features:\n",
    "        data[feature] = (data[feature]-data[feature].mean())/data[feature].std()\n",
    "\n",
    "    #shuffle the data\n",
    "    indices = data_norm.index.tolist()\n",
    "    indices = np.array(indices)\n",
    "    np.random.shuffle(indices)\n",
    "    x = data_norm.reindex(indices)[features]\n",
    "    y = data_norm.reindex(indices)[labels]\n",
    "    if flower=='Iris-setosa':\n",
    "        for i in range(len(y)):\n",
    "            y[i]=1 if y[i]=='Iris-setosa' else 0\n",
    "        y = y.values.reshape(len(y),1)\n",
    "    elif flower=='Iris-virginica':\n",
    "        for i in range(len(y)):\n",
    "            y[i]=1 if y[i]=='Iris-virginica' else 0\n",
    "        y = y.values.reshape(len(y),1)\n",
    "    else:\n",
    "        y = get_dummies(y)\n",
    "    return x,y"
   ]
  },
  {
   "cell_type": "markdown",
   "metadata": {},
   "source": [
    "<h1>Part a:"
   ]
  },
  {
   "cell_type": "code",
   "execution_count": 263,
   "metadata": {},
   "outputs": [
    {
     "name": "stdout",
     "output_type": "stream",
     "text": [
      "Index(['petal_length', 'petal_width'], dtype='object')\n",
      "species\n"
     ]
    }
   ],
   "source": [
    "x_1,y_1 = data_preprocessing(dataset,2,flower='Iris-setosa')\n",
    "#generate traning and validation sets\n",
    "x_train_1, x_test_1, y_train_1, y_test_1 = train_test_split(x_1,y_1,test_size=0.3)"
   ]
  },
  {
   "cell_type": "markdown",
   "metadata": {},
   "source": [
    "<h2>Define hyper-parameters</h2>"
   ]
  },
  {
   "cell_type": "code",
   "execution_count": 264,
   "metadata": {},
   "outputs": [],
   "source": [
    "#learning rate\n",
    "lr = 0.01\n",
    "#number of traning steps\n",
    "num_steps =100"
   ]
  },
  {
   "cell_type": "markdown",
   "metadata": {},
   "source": [
    "<h2>Define Placeholder and Variables</h2>"
   ]
  },
  {
   "cell_type": "code",
   "execution_count": 265,
   "metadata": {},
   "outputs": [],
   "source": [
    "tf.reset_default_graph()\n",
    "\n",
    "#define the placeholder to feed the training data later\n",
    "X = tf.placeholder(tf.float32,shape=[None,2],name='X')\n",
    "Y = tf.placeholder(tf.float32,shape=[None,1],name='Y')\n",
    "\n",
    "#define the weights and initialized with random normal distribution\n",
    "W = tf.Variable(tf.random_normal([2,1]),tf.float32,name='W')\n",
    "#define the bias with zero initialization\n",
    "b = tf.Variable(tf.zeros([1,1]),tf.float32,name='b')"
   ]
  },
  {
   "cell_type": "markdown",
   "metadata": {},
   "source": [
    "<h2>Define update rule and accuracy</h2>"
   ]
  },
  {
   "cell_type": "code",
   "execution_count": 266,
   "metadata": {},
   "outputs": [],
   "source": [
    "#define the predicted output label, Tensorflow doesn't have step function, we use tf.round to do that\n",
    "Y_hat = tf.round(tf.sigmoid(tf.add(tf.matmul(X,W),b)))\n",
    "#the error between target and logit\n",
    "error = Y-Y_hat\n",
    "\n",
    "\n",
    "correct_prediction = tf.equal(Y_hat, Y)\n",
    "accuracy = tf.reduce_mean(tf.cast(correct_prediction, tf.float32))\n",
    "\n",
    "#weight and bias update rule w(t+1) = w(t) + learning_rate * error * x\n",
    "dW = tf.matmul(tf.transpose(X),error)\n",
    "db = tf.reduce_sum(error,0)\n",
    "W_ = W + lr*dW\n",
    "b_ = b + lr*db\n",
    "\n",
    "#group two operations together\n",
    "step = tf.group(W.assign(W_), b.assign(b_))"
   ]
  },
  {
   "cell_type": "markdown",
   "metadata": {},
   "source": [
    "<h2>Execute training</h2>"
   ]
  },
  {
   "cell_type": "code",
   "execution_count": 267,
   "metadata": {
    "scrolled": false
   },
   "outputs": [
    {
     "name": "stdout",
     "output_type": "stream",
     "text": [
      "Test accuracy:  1.0\n"
     ]
    }
   ],
   "source": [
    "#initialize tensorflow variables\n",
    "init = tf.global_variables_initializer()\n",
    "train_accuracy_a = []\n",
    "#start tensorflow session\n",
    "with tf.Session() as sess:\n",
    "    #run initialization\n",
    "    sess.run(init)\n",
    "    #training for number of iterations\n",
    "    for i in range(num_steps):\n",
    "        #every iteration we run optimization on the training data X and labels Y\n",
    "        sess.run(step,feed_dict = {X:x_train_1,Y:y_train_1})\n",
    "        train_accuracy_a.append((i, sess.run(accuracy, feed_dict={X:x_train_1, Y:y_train_1})))\n",
    "    print (\"Test accuracy: \", sess.run(accuracy, feed_dict={X:x_test_1, Y: y_test_1}))\n",
    "    #after training, we acquire the weight and bias\n",
    "    #np.squeeze plays a role to get rid of the redundant dimension [i.e.make (2,1) be (2,)]\n",
    "    W_a = np.squeeze(sess.run(W))\n",
    "    b_a = np.squeeze(sess.run(b))\n",
    "    "
   ]
  },
  {
   "cell_type": "markdown",
   "metadata": {},
   "source": [
    "<h2>Plot</h2>"
   ]
  },
  {
   "cell_type": "code",
   "execution_count": 268,
   "metadata": {},
   "outputs": [
    {
     "data": {
      "image/png": "[encoded data removed]",
      "text/plain": [
       "<matplotlib.figure.Figure at 0x1a35ad3978>"
      ]
     },
     "metadata": {},
     "output_type": "display_data"
    }
   ],
   "source": [
    "#plot out the decision line determined by learned weight and bias\n",
    "import matplotlib.pyplot as plt\n",
    "plot_x = np.array([np.min(np.asarray(x_test_1)[:, 0] - 0.2), np.max(np.asarray(x_test_1)[:, 1]+0.2)])\n",
    "plot_y = 1 / W_a[1] * (-W_a[0] * plot_x - b_a)\n",
    "\n",
    "plt.scatter(np.asarray(x_test_1)[:, 0], np.asarray(x_test_1)[:, 1], c=np.squeeze(np.asarray(y_test_1)), cmap='viridis')\n",
    "plt.plot(plot_x, plot_y, color='blue', linewidth=2)\n",
    "plt.show()"
   ]
  },
  {
   "cell_type": "code",
   "execution_count": 395,
   "metadata": {},
   "outputs": [
    {
     "data": {
      "image/png": "[encoded data removed]",
      "text/plain": [
       "<matplotlib.figure.Figure at 0x1a34a365c0>"
      ]
     },
     "metadata": {},
     "output_type": "display_data"
    }
   ],
   "source": [
    "# plt.figure(figsize=(15, 15), dpi=80)\n",
    "plt.plot([x[0] for x in train_accuracy_a], [x[1] for x in train_accuracy_a], color='green')\n",
    "plt.show()"
   ]
  },
  {
   "cell_type": "markdown",
   "metadata": {},
   "source": [
    "The setosa vs non-setosa species are linearly separable given only petal length & petal width features."
   ]
  },
  {
   "cell_type": "markdown",
   "metadata": {},
   "source": [
    "<h1>Part b:</h1>"
   ]
  },
  {
   "cell_type": "code",
   "execution_count": 409,
   "metadata": {},
   "outputs": [
    {
     "name": "stdout",
     "output_type": "stream",
     "text": [
      "Index(['petal_length', 'petal_width'], dtype='object')\n",
      "species\n"
     ]
    }
   ],
   "source": [
    "x_2,y_2 = data_preprocessing(dataset,2,flower='Iris-virginica')\n",
    "#generate traning and validation sets\n",
    "x_train_2, x_test_2, y_train_2, y_test_2 = train_test_split(x_2,y_2,test_size=0.3)"
   ]
  },
  {
   "cell_type": "markdown",
   "metadata": {},
   "source": [
    "<h2>Define hyper-parameter</h2>"
   ]
  },
  {
   "cell_type": "code",
   "execution_count": 410,
   "metadata": {},
   "outputs": [],
   "source": [
    "#learning rate\n",
    "lr = 0.01\n",
    "#number of traning steps\n",
    "num_steps =100"
   ]
  },
  {
   "cell_type": "markdown",
   "metadata": {},
   "source": [
    "<h2>Define Placeholder and Variables</h2>"
   ]
  },
  {
   "cell_type": "code",
   "execution_count": 411,
   "metadata": {},
   "outputs": [],
   "source": [
    "tf.reset_default_graph()\n",
    "\n",
    "#define the placeholder to feed the training data later\n",
    "X = tf.placeholder(tf.float32,shape=[None,2],name='X')\n",
    "Y = tf.placeholder(tf.float32,shape=[None,1],name='Y')\n",
    "\n",
    "#define the weights and initialized with random normal distribution\n",
    "W = tf.Variable(tf.random_normal([2,1]),tf.float32,name='W')\n",
    "#define the bias with zero initialization\n",
    "b = tf.Variable(tf.zeros([1,1]),tf.float32,name='b')"
   ]
  },
  {
   "cell_type": "markdown",
   "metadata": {},
   "source": [
    "<h2>Define update rule and accuracy</h2>"
   ]
  },
  {
   "cell_type": "code",
   "execution_count": 412,
   "metadata": {},
   "outputs": [],
   "source": [
    "#define the predicted output label, Tensorflow doesn't have step function, we use tf.round to do that\n",
    "Y_hat = tf.round(tf.sigmoid(tf.add(tf.matmul(X,W),b)))\n",
    "#the error between target and logit\n",
    "error = Y-Y_hat\n",
    "\n",
    "\n",
    "correct_prediction = tf.equal(Y_hat, Y)\n",
    "accuracy = tf.reduce_mean(tf.cast(correct_prediction, tf.float32))\n",
    "\n",
    "#weight and bias update rule w(t+1) = w(t) + learning_rate * error * x\n",
    "dW = tf.matmul(tf.transpose(X),error)\n",
    "db = tf.reduce_sum(error,0)\n",
    "W_ = W + lr*dW\n",
    "b_ = b + lr*db\n",
    "\n",
    "#group two operations together\n",
    "step = tf.group(W.assign(W_), b.assign(b_))"
   ]
  },
  {
   "cell_type": "markdown",
   "metadata": {},
   "source": [
    "<h2>Execute training</h2>"
   ]
  },
  {
   "cell_type": "code",
   "execution_count": 413,
   "metadata": {},
   "outputs": [
    {
     "name": "stdout",
     "output_type": "stream",
     "text": [
      "Test accuracy:  1.0\n"
     ]
    }
   ],
   "source": [
    "#initialize tensorflow variables\n",
    "init = tf.global_variables_initializer()\n",
    "train_accuracy_b = []\n",
    "#start tensorflow session\n",
    "with tf.Session() as sess:\n",
    "    #run initialization\n",
    "    sess.run(init)\n",
    "    #training for number of iterations\n",
    "    for i in range(num_steps):\n",
    "        #every iteration we run optimization on the training data X and labels Y\n",
    "        sess.run(step,feed_dict = {X:x_train_2,Y:y_train_2})\n",
    "        train_accuracy_b.append((i, sess.run(accuracy, feed_dict={X:x_train_2, Y:y_train_2})))\n",
    "    print (\"Test accuracy: \", sess.run(accuracy, feed_dict={X:x_test_2, Y: y_test_2}))\n",
    "    #after training, we acquire the weight and bias\n",
    "    #np.squeeze plays a role to get rid of the redundant dimension [i.e.make (2,1) be (2,)]\n",
    "    W_b = np.squeeze(sess.run(W))\n",
    "    b_b = np.squeeze(sess.run(b))\n",
    "    "
   ]
  },
  {
   "cell_type": "markdown",
   "metadata": {},
   "source": [
    "<h2>Plot</h2>"
   ]
  },
  {
   "cell_type": "code",
   "execution_count": 414,
   "metadata": {},
   "outputs": [
    {
     "data": {
      "image/png": "[encoded data removed]",
      "text/plain": [
       "<matplotlib.figure.Figure at 0x1a34b81588>"
      ]
     },
     "metadata": {},
     "output_type": "display_data"
    }
   ],
   "source": [
    "#plot out the decision line determined by learned weight and bias\n",
    "import matplotlib.pyplot as plt\n",
    "plot_x = np.array([np.min(np.asarray(x_test_2)[:, 0] - 0.2), np.max(np.asarray(x_test_2)[:, 1]+0.2)])\n",
    "plot_y = 1 / W_b[1] * (-W_b[0] * plot_x - b_b)\n",
    "\n",
    "plt.scatter(np.asarray(x_test_2)[:, 0], np.asarray(x_test_2)[:, 1], c=np.squeeze(np.asarray(y_test_2)), cmap='viridis')\n",
    "plt.plot(plot_x, plot_y, color='blue', linewidth=2)\n",
    "plt.show()"
   ]
  },
  {
   "cell_type": "code",
   "execution_count": 415,
   "metadata": {},
   "outputs": [
    {
     "data": {
      "image/png": "[encoded data removed]",
      "text/plain": [
       "<matplotlib.figure.Figure at 0x1a34b814e0>"
      ]
     },
     "metadata": {},
     "output_type": "display_data"
    }
   ],
   "source": [
    "# plt.figure(figsize=(15, 15), dpi=80)\n",
    "plt.plot([x[0] for x in train_accuracy_b], [x[1] for x in train_accuracy_b], color='green')\n",
    "plt.show()"
   ]
  },
  {
   "cell_type": "markdown",
   "metadata": {},
   "source": [
    "The virginica vs non-virginica species are almost linearly separable given only petal length & petal width features."
   ]
  },
  {
   "cell_type": "markdown",
   "metadata": {},
   "source": [
    "<h1>Part c:</h1>"
   ]
  },
  {
   "cell_type": "code",
   "execution_count": 508,
   "metadata": {},
   "outputs": [
    {
     "name": "stdout",
     "output_type": "stream",
     "text": [
      "Index(['sepal_length', 'sepal_width', 'petal_length', 'petal_width'], dtype='object')\n",
      "species\n"
     ]
    }
   ],
   "source": [
    "x_3,y_3 = data_preprocessing(dataset,4)\n",
    "#generate traning and validation sets\n",
    "x_train_3, x_test_3, y_train_3, y_test_3 = train_test_split(x_3,y_3,test_size=0.3)"
   ]
  },
  {
   "cell_type": "markdown",
   "metadata": {},
   "source": [
    "<h2>Define hyper-parameters</h2>"
   ]
  },
  {
   "cell_type": "code",
   "execution_count": 509,
   "metadata": {},
   "outputs": [],
   "source": [
    "#learning rate\n",
    "lr = 0.1\n",
    "#number of traning steps\n",
    "num_steps =100\n",
    "\n",
    "#network parameters\n",
    "n_hidden_1 = 256\n",
    "n_hidden_2 = 128\n",
    "num_input = 4\n",
    "num_classes = 3"
   ]
  },
  {
   "cell_type": "markdown",
   "metadata": {},
   "source": [
    "<h2>Define placehoder and variables</h2>"
   ]
  },
  {
   "cell_type": "code",
   "execution_count": 510,
   "metadata": {},
   "outputs": [],
   "source": [
    "tf.reset_default_graph()\n",
    "\n",
    "\n",
    "#tf graph input\n",
    "X = tf.placeholder(tf.float32,[None,num_input],name='X')\n",
    "Y = tf.placeholder(tf.float32,[None,num_classes],name='Y')\n",
    "\n",
    "#Layers weight & bias\n",
    "weights = {\n",
    "    'W1': tf.Variable(tf.random_normal([num_input, n_hidden_1]),name='W1'),\n",
    "    'W2': tf.Variable(tf.random_normal([n_hidden_1, n_hidden_2]),name='W2'),\n",
    "    'Wout': tf.Variable(tf.random_normal([n_hidden_2, num_classes]),name='Wout')\n",
    "}\n",
    "\n",
    "biases = {\n",
    "    'b1': tf.Variable(tf.zeros(shape=[n_hidden_1]),name='b1'),\n",
    "    'b2': tf.Variable(tf.zeros(shape=[n_hidden_2]),name='b2'),\n",
    "    'bout': tf.Variable(tf.zeros(shape=[num_classes]),name='bout')\n",
    "}"
   ]
  },
  {
   "cell_type": "markdown",
   "metadata": {},
   "source": [
    "<h2>Define the neural network</h2>"
   ]
  },
  {
   "cell_type": "code",
   "execution_count": 511,
   "metadata": {},
   "outputs": [],
   "source": [
    "#define a neural net model\n",
    "def neural_net(x):\n",
    "    layer_1_out = tf.nn.relu(tf.add(tf.matmul(x,weights['W1']),biases['b1']))\n",
    "    layer_2_out = tf.nn.relu(tf.add(tf.matmul(layer_1_out,weights['W2']),biases['b2']))\n",
    "    out = tf.add(tf.matmul(layer_2_out,weights['Wout']),biases['bout'])\n",
    "    return out"
   ]
  },
  {
   "cell_type": "markdown",
   "metadata": {},
   "source": [
    "<h2>Define cost function and accuracy</h2>"
   ]
  },
  {
   "cell_type": "code",
   "execution_count": 512,
   "metadata": {},
   "outputs": [],
   "source": [
    "#predicted labels\n",
    "logits = neural_net(X)\n",
    "\n",
    "#define loss\n",
    "loss = tf.reduce_mean(tf.nn.softmax_cross_entropy_with_logits_v2(logits=logits,labels=Y),name='loss')\n",
    "\n",
    "#define optimizer\n",
    "optimizer = tf.train.GradientDescentOptimizer(learning_rate=lr)\n",
    "train_op = optimizer.minimize(loss)\n",
    "\n",
    "#compare the predicted labels with true labels\n",
    "correct_pred = tf.equal(tf.argmax(tf.nn.softmax(logits),1),tf.argmax(Y,1))\n",
    "\n",
    "#compute the accuracy by taking average\n",
    "accuracy = tf.reduce_mean(tf.cast(correct_pred,tf.float32),name='accuracy')\n",
    "\n",
    "#Initialize the variables\n",
    "init = tf.global_variables_initializer()"
   ]
  },
  {
   "cell_type": "markdown",
   "metadata": {},
   "source": [
    "<h2>Execute training</h2>"
   ]
  },
  {
   "cell_type": "code",
   "execution_count": 513,
   "metadata": {
    "scrolled": false
   },
   "outputs": [
    {
     "name": "stdout",
     "output_type": "stream",
     "text": [
      "Step 0, Accuracy= 0.714\n",
      "Step 1, Accuracy= 0.648\n",
      "Step 2, Accuracy= 0.610\n",
      "Step 3, Accuracy= 0.781\n",
      "Step 4, Accuracy= 0.943\n",
      "Step 5, Accuracy= 0.933\n",
      "Step 6, Accuracy= 0.971\n",
      "Step 7, Accuracy= 0.933\n",
      "Step 8, Accuracy= 0.962\n",
      "Step 9, Accuracy= 0.971\n",
      "Step 10, Accuracy= 0.981\n",
      "Step 11, Accuracy= 0.981\n",
      "Step 12, Accuracy= 0.981\n",
      "Step 13, Accuracy= 0.981\n",
      "Step 14, Accuracy= 0.990\n",
      "Step 15, Accuracy= 0.990\n",
      "Step 16, Accuracy= 0.990\n",
      "Step 17, Accuracy= 1.000\n",
      "Step 18, Accuracy= 1.000\n",
      "Step 19, Accuracy= 1.000\n",
      "Step 20, Accuracy= 1.000\n",
      "Step 21, Accuracy= 1.000\n",
      "Step 22, Accuracy= 1.000\n",
      "Step 23, Accuracy= 1.000\n",
      "Step 24, Accuracy= 1.000\n",
      "Step 25, Accuracy= 1.000\n",
      "Step 26, Accuracy= 1.000\n",
      "Step 27, Accuracy= 1.000\n",
      "Step 28, Accuracy= 1.000\n",
      "Step 29, Accuracy= 1.000\n",
      "Step 30, Accuracy= 1.000\n",
      "Step 31, Accuracy= 1.000\n",
      "Step 32, Accuracy= 1.000\n",
      "Step 33, Accuracy= 1.000\n",
      "Step 34, Accuracy= 1.000\n",
      "Step 35, Accuracy= 1.000\n",
      "Step 36, Accuracy= 1.000\n",
      "Step 37, Accuracy= 1.000\n",
      "Step 38, Accuracy= 1.000\n",
      "Step 39, Accuracy= 1.000\n",
      "Step 40, Accuracy= 1.000\n",
      "Step 41, Accuracy= 1.000\n",
      "Step 42, Accuracy= 1.000\n",
      "Step 43, Accuracy= 1.000\n",
      "Step 44, Accuracy= 1.000\n",
      "Step 45, Accuracy= 1.000\n",
      "Step 46, Accuracy= 1.000\n",
      "Step 47, Accuracy= 1.000\n",
      "Step 48, Accuracy= 1.000\n",
      "Step 49, Accuracy= 1.000\n",
      "Step 50, Accuracy= 1.000\n",
      "Step 51, Accuracy= 1.000\n",
      "Step 52, Accuracy= 1.000\n",
      "Step 53, Accuracy= 1.000\n",
      "Step 54, Accuracy= 1.000\n",
      "Step 55, Accuracy= 1.000\n",
      "Step 56, Accuracy= 1.000\n",
      "Step 57, Accuracy= 1.000\n",
      "Step 58, Accuracy= 1.000\n",
      "Step 59, Accuracy= 1.000\n",
      "Step 60, Accuracy= 1.000\n",
      "Step 61, Accuracy= 1.000\n",
      "Step 62, Accuracy= 1.000\n",
      "Step 63, Accuracy= 1.000\n",
      "Step 64, Accuracy= 1.000\n",
      "Step 65, Accuracy= 1.000\n",
      "Step 66, Accuracy= 1.000\n",
      "Step 67, Accuracy= 1.000\n",
      "Step 68, Accuracy= 1.000\n",
      "Step 69, Accuracy= 1.000\n",
      "Step 70, Accuracy= 1.000\n",
      "Step 71, Accuracy= 1.000\n",
      "Step 72, Accuracy= 1.000\n",
      "Step 73, Accuracy= 1.000\n",
      "Step 74, Accuracy= 1.000\n",
      "Step 75, Accuracy= 1.000\n",
      "Step 76, Accuracy= 1.000\n",
      "Step 77, Accuracy= 1.000\n",
      "Step 78, Accuracy= 1.000\n",
      "Step 79, Accuracy= 1.000\n",
      "Step 80, Accuracy= 1.000\n",
      "Step 81, Accuracy= 1.000\n",
      "Step 82, Accuracy= 1.000\n",
      "Step 83, Accuracy= 1.000\n",
      "Step 84, Accuracy= 1.000\n",
      "Step 85, Accuracy= 1.000\n",
      "Step 86, Accuracy= 1.000\n",
      "Step 87, Accuracy= 1.000\n",
      "Step 88, Accuracy= 1.000\n",
      "Step 89, Accuracy= 1.000\n",
      "Step 90, Accuracy= 1.000\n",
      "Step 91, Accuracy= 1.000\n",
      "Step 92, Accuracy= 1.000\n",
      "Step 93, Accuracy= 1.000\n",
      "Step 94, Accuracy= 1.000\n",
      "Step 95, Accuracy= 1.000\n",
      "Step 96, Accuracy= 1.000\n",
      "Step 97, Accuracy= 1.000\n",
      "Step 98, Accuracy= 1.000\n",
      "Step 99, Accuracy= 1.000\n",
      "Training finished!\n",
      "Testing Accuracy: 1.0\n"
     ]
    }
   ],
   "source": [
    "#initialize tensorflow variables\n",
    "init = tf.global_variables_initializer()\n",
    "train_accuracy_c = []\n",
    "#start tensorflow session\n",
    "\n",
    "with tf.Session() as sess:\n",
    "    sess.run(init)\n",
    "    \n",
    "    for i in range(num_steps):\n",
    "        #run optimization\n",
    "        sess.run(train_op, feed_dict={X:x_train_3, Y:y_train_3})\n",
    "        \n",
    "        acc = sess.run(accuracy,feed_dict={X:x_train_3, Y:y_train_3})\n",
    "        train_accuracy_c.append((i, sess.run(accuracy, feed_dict={X:x_train_3, Y:y_train_3})))\n",
    "        print(\"Step \"+str(i)+\", Accuracy= {:.3f}\".format(acc))\n",
    "    \n",
    "    print(\"Training finished!\")\n",
    "    print(\"Testing Accuracy:\", sess.run(accuracy, feed_dict={X:x_test_3, Y:y_test_3}))"
   ]
  },
  {
   "cell_type": "markdown",
   "metadata": {},
   "source": [
    "<h2>Plot</h2>"
   ]
  },
  {
   "cell_type": "code",
   "execution_count": 514,
   "metadata": {},
   "outputs": [
    {
     "data": {
      "image/png": "[encoded data removed]",
      "text/plain": [
       "<matplotlib.figure.Figure at 0x1a3752dc88>"
      ]
     },
     "metadata": {},
     "output_type": "display_data"
    }
   ],
   "source": [
    "# plt.figure(figsize=(15, 15), dpi=80)\n",
    "plt.plot([x[0] for x in train_accuracy_c], [x[1] for x in train_accuracy_c], color='green')\n",
    "plt.show()"
   ]
  }
 ],
 "metadata": {
  "kernelspec": {
   "display_name": "Python 3",
   "language": "python",
   "name": "python3"
  },
  "language_info": {
   "codemirror_mode": {
    "name": "ipython",
    "version": 3
   },
   "file_extension": ".py",
   "mimetype": "text/x-python",
   "name": "python",
   "nbconvert_exporter": "python",
   "pygments_lexer": "ipython3",
   "version": "3.6.7"
  }
 },
 "nbformat": 4,
 "nbformat_minor": 2
}
